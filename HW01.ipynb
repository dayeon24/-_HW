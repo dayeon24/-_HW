{
  "nbformat": 4,
  "nbformat_minor": 0,
  "metadata": {
    "colab": {
      "provenance": [],
      "authorship_tag": "ABX9TyMR8NU4um7mZLyuDdJpEZ3p",
      "include_colab_link": true
    },
    "kernelspec": {
      "name": "python3",
      "display_name": "Python 3"
    },
    "language_info": {
      "name": "python"
    }
  },
  "cells": [
    {
      "cell_type": "markdown",
      "metadata": {
        "id": "view-in-github",
        "colab_type": "text"
      },
      "source": [
        "<a href=\"https://colab.research.google.com/github/dayeon24/24-1_ML-HW/blob/main/HW01.ipynb\" target=\"_parent\"><img src=\"https://colab.research.google.com/assets/colab-badge.svg\" alt=\"Open In Colab\"/></a>"
      ]
    },
    {
      "cell_type": "markdown",
      "source": [
        "# 4.1 선형 회귀"
      ],
      "metadata": {
        "id": "ZJBdeGL5KLYz"
      }
    },
    {
      "cell_type": "markdown",
      "source": [
        "1. 선형 데이터를 생성하는 과정\n",
        "\n",
        "  y = 4 + 3x 를 따르며 손떨림(난수)을 보정해서 넣은 데이터\n"
      ],
      "metadata": {
        "id": "xJFvR6i58dxt"
      }
    },
    {
      "cell_type": "code",
      "execution_count": 1,
      "metadata": {
        "colab": {
          "base_uri": "https://localhost:8080/",
          "height": 0
        },
        "id": "5LZYcOMyEfwo",
        "outputId": "fa7c1148-6781-4a51-be01-4fdc4bb6c12e"
      },
      "outputs": [
        {
          "output_type": "execute_result",
          "data": {
            "text/plain": [
              "((100, 1), (100, 1))"
            ]
          },
          "metadata": {},
          "execution_count": 1
        }
      ],
      "source": [
        "import numpy as np\n",
        "\n",
        "np.random.seed(42)  # 난수 생성 패턴을 고정하는 함수, 코드 예제 숫자들의 재현 가능\n",
        "m = 100  # 샘플 개수\n",
        "\n",
        "# np.random.randn(m, 1)은 평균 0, 표준편차 1의 정규 분포를 따르는 난수를 생성\n",
        "X = 2 * np.random.rand(m, 1)  # m개 난수 생성 -> 2를 곱하여 열 벡터형태로 X에 저장\n",
        "y = 4 + 3 * X + np.random.randn(m, 1)  # 난수를 이용해 열 벡터생성, y=3X+4+난수(가우스 노이즈)\n",
        "X.shape, y.shape #((100, 1), (100, 1))"
      ]
    },
    {
      "cell_type": "markdown",
      "source": [
        "2. 선형 회귀 모델을 예측하는 과정\n",
        "\n",
        "  MSE를 최소화하는 파라메터(세타)\n",
        "  "
      ],
      "metadata": {
        "id": "LJi_cfqG8sXq"
      }
    },
    {
      "cell_type": "code",
      "source": [
        "from sklearn.preprocessing import add_dummy_feature #상수항 추가하는 함수\n",
        "\n",
        "X_b = add_dummy_feature(X) #데이터의 맨 앞 열에 1(bias)로 채워진 열을 추가\n",
        "# X.shape, X_b.shape 실행결과 (100, 1),(100, 2)\n",
        "\n",
        "# np.linalg : 선형 대수 연산 수행 가능한 함수\n",
        "# np.linalg.inv : 역행렬 계산\n",
        "# @ : np.matmul(A,B)와 동일, 행렬 곱셈\n",
        "# T : 전치 행렬\n",
        "\n",
        "theta_best = np.linalg.inv(X_b.T @ X_b) @ X_b.T @ y # 식 4-4 구현, 비용 함수를 최소화하는 파라메터를 찾는 식"
      ],
      "metadata": {
        "id": "0ftKP7hzFaPa"
      },
      "execution_count": 2,
      "outputs": []
    },
    {
      "cell_type": "code",
      "source": [
        "theta_best # 순서대로 세타0 세타1"
      ],
      "metadata": {
        "colab": {
          "base_uri": "https://localhost:8080/",
          "height": 0
        },
        "id": "BZ-rO-DXHf_B",
        "outputId": "b4655724-0f78-4ced-9852-00cd30629ce5"
      },
      "execution_count": 3,
      "outputs": [
        {
          "output_type": "execute_result",
          "data": {
            "text/plain": [
              "array([[4.21509616],\n",
              "       [2.77011339]])"
            ]
          },
          "metadata": {},
          "execution_count": 3
        }
      ]
    },
    {
      "cell_type": "markdown",
      "source": [
        "3. 샘플(2개)에 대한 모델의 예측 값(y)"
      ],
      "metadata": {
        "id": "JhiQPDAz9w4j"
      }
    },
    {
      "cell_type": "code",
      "source": [
        "X_new = np.array([[0], [2]]) # 샘플 2개, x값\n",
        "X_new_b = add_dummy_feature(X_new)  # 각 샘플에 x0 = 1을 추가합니다. 모델의 상수항을 고려하기 위함\n",
        "y_predict = X_new_b @ theta_best # 샘플 2개에 대한 예측값\n",
        "y_predict"
      ],
      "metadata": {
        "colab": {
          "base_uri": "https://localhost:8080/",
          "height": 0
        },
        "id": "hVkHF2Z_I8v1",
        "outputId": "44611f7b-b1d2-40cb-c746-6993da8de85e"
      },
      "execution_count": 4,
      "outputs": [
        {
          "output_type": "execute_result",
          "data": {
            "text/plain": [
              "array([[4.21509616],\n",
              "       [9.75532293]])"
            ]
          },
          "metadata": {},
          "execution_count": 4
        }
      ]
    },
    {
      "cell_type": "markdown",
      "source": [
        "4. 예측한 모델 그래프로 표현"
      ],
      "metadata": {
        "id": "GkX28QmsAP96"
      }
    },
    {
      "cell_type": "code",
      "source": [
        "import matplotlib.pyplot as plt\n",
        "\n",
        "plt.figure(figsize=(6, 4))  # figure생성하고 크기 설정\n",
        "#입력 데이터 X_new에 대한 예측값 y_predict에 대한 빨간색 실선(모델) 그리기\n",
        "plt.plot(X_new, y_predict, \"r-\", label=\"Predictions\")\n",
        "#원래 데이터 x에 대한 타겟값 y을 파란색 점으로 그리기\n",
        "plt.plot(X, y, \"b.\")\n",
        "\n",
        "#x축과 y축에 라벨을 설정\n",
        "plt.xlabel(\"$x_1$\")\n",
        "plt.ylabel(\"$y$\", rotation=0)\n",
        "#x축과 y축에 라벨을 설정\n",
        "plt.axis([0, 2, 0, 15])\n",
        "plt.grid()\n",
        "plt.legend(loc=\"upper left\")\n",
        "\n",
        "plt.show()"
      ],
      "metadata": {
        "colab": {
          "base_uri": "https://localhost:8080/",
          "height": 388
        },
        "id": "FNf6XEDUJBxr",
        "outputId": "9bb2f1fc-b533-49c5-f4d0-ad7d36c2bd6f"
      },
      "execution_count": 5,
      "outputs": [
        {
          "output_type": "display_data",
          "data": {
            "text/plain": [
              "<Figure size 600x400 with 1 Axes>"
            ],
            "image/png": "[encoded data removed]"
          },
          "metadata": {}
        }
      ]
    },
    {
      "cell_type": "markdown",
      "source": [
        "5. 사이킷런에서 선형회귀 수행\n",
        "\n",
        "  add_dummy_feature() 및 정규방정식 선언 필요없이 LinearRegression() 간단히 수행"
      ],
      "metadata": {
        "id": "slVmUqk8AmVa"
      }
    },
    {
      "cell_type": "code",
      "source": [
        "from sklearn.linear_model import LinearRegression\n",
        "\n",
        "lin_reg = LinearRegression() #선형 회귀 모델 선언\n",
        "lin_reg.fit(X, y) #입력 데이터 X와 타겟 데이터 y에 대해 모델 훈련\n",
        "\n",
        "# 훈련된 모델의 절편(intercept, bias)과 계수(coefficient, feature 가중치)를 반환\n",
        "lin_reg.intercept_, lin_reg.coef_"
      ],
      "metadata": {
        "colab": {
          "base_uri": "https://localhost:8080/",
          "height": 0
        },
        "id": "DC925w8ZKAo0",
        "outputId": "79d35715-97c9-4a2b-94d2-bd39665c9753"
      },
      "execution_count": 6,
      "outputs": [
        {
          "output_type": "execute_result",
          "data": {
            "text/plain": [
              "(array([4.21509616]), array([[2.77011339]]))"
            ]
          },
          "metadata": {},
          "execution_count": 6
        }
      ]
    },
    {
      "cell_type": "code",
      "source": [
        "lin_reg.predict(X_new) # y_predict와 값이 동일하다"
      ],
      "metadata": {
        "colab": {
          "base_uri": "https://localhost:8080/",
          "height": 0
        },
        "id": "Ek0zvCoyKDUH",
        "outputId": "8816284f-31b6-4cdf-9311-7bbbaa3dad39"
      },
      "execution_count": 7,
      "outputs": [
        {
          "output_type": "execute_result",
          "data": {
            "text/plain": [
              "array([[4.21509616],\n",
              "       [9.75532293]])"
            ]
          },
          "metadata": {},
          "execution_count": 7
        }
      ]
    },
    {
      "cell_type": "code",
      "source": [
        "# Least Squares Method 기반\n",
        "\n",
        "# 순서대로 최적의 파라미터,  잔차(오차)의 제곱의 합, 특징 행렬의 랭크(rank), singular values 값\n",
        "theta_best_svd, residuals, rank, s = np.linalg.lstsq(X_b, y, rcond=1e-6) # SVD 임계값 1e-6\n",
        "theta_best_svd"
      ],
      "metadata": {
        "colab": {
          "base_uri": "https://localhost:8080/",
          "height": 0
        },
        "id": "ETPMFPcKKE8q",
        "outputId": "9e42cd0f-3b5a-4ade-80e3-db2422bcc3a2"
      },
      "execution_count": 8,
      "outputs": [
        {
          "output_type": "execute_result",
          "data": {
            "text/plain": [
              "array([[4.21509616],\n",
              "       [2.77011339]])"
            ]
          },
          "metadata": {},
          "execution_count": 8
        }
      ]
    },
    {
      "cell_type": "code",
      "source": [
        "# 무어-펜로즈 유사역행렬(pseudoinverse)\n",
        "np.linalg.pinv(X_b) @ y"
      ],
      "metadata": {
        "colab": {
          "base_uri": "https://localhost:8080/",
          "height": 0
        },
        "id": "K0_LcksiKGP3",
        "outputId": "ee9e9016-c2ea-4026-966d-8c12bf953098"
      },
      "execution_count": 9,
      "outputs": [
        {
          "output_type": "execute_result",
          "data": {
            "text/plain": [
              "array([[4.21509616],\n",
              "       [2.77011339]])"
            ]
          },
          "metadata": {},
          "execution_count": 9
        }
      ]
    },
    {
      "cell_type": "markdown",
      "source": [
        "# 4.2 경사 하강법"
      ],
      "metadata": {
        "id": "Z9VXc2WyKQBD"
      }
    },
    {
      "cell_type": "markdown",
      "source": [
        "6. 정사 하강법을 이용한 학습법\n",
        "\n",
        "  앞서 공부한 정규 방정식이나 SVD 방법 모두 특성 수가 많아지면 계산 시간이 배가 된다.\n",
        "  \n",
        "  이에 대한 해법으로 학습률(하이퍼파라미터)을 이용해 비용 함수를 최소화한다.\n",
        "  \n",
        "  편도함수를 반복 계산하여 파라미터를 업데이트한다."
      ],
      "metadata": {
        "id": "ebOI_lvhGEjh"
      }
    },
    {
      "cell_type": "code",
      "source": [
        "eta = 0.1  # 학습률, 파라미터를 업데이트를 얼마나 할지\n",
        "n_epochs = 1000 # 전체 데이터셋을 1000번 반복하여 학습\n",
        "m = len(X_b)  # 샘플 개수 100\n",
        "\n",
        "np.random.seed(42) # 결과값 재현을 위한 시드 설정\n",
        "\n",
        "# 정규분포로부터 무작위 추출, 2개의 행과 1개의 열로 이뤄진 2차원 배열(bias, weight)\n",
        "theta = np.random.randn(2, 1)  # 모델 파라미터를 랜덤하게 초기화\n",
        "\n",
        "for epoch in range(n_epochs):\n",
        "    gradients = 2 / m * X_b.T @ (X_b @ theta - y) # 식 4-6 비용 함수의 그레이디언트 벡터\n",
        "    theta = theta - eta * gradients # 식 4-7 경사 하강법으로 세타 업데이트"
      ],
      "metadata": {
        "id": "WXCbVQENKXZ7"
      },
      "execution_count": 10,
      "outputs": []
    },
    {
      "cell_type": "code",
      "source": [
        "# 1000번 반복 학습하여 SD 방법으로 theta를 최적화한 결과 앞선 결과와 동일하다.\n",
        "theta"
      ],
      "metadata": {
        "colab": {
          "base_uri": "https://localhost:8080/",
          "height": 0
        },
        "id": "aronZ3yJKkeo",
        "outputId": "f870dab6-2b86-4c02-82e7-e40bbedbe8a4"
      },
      "execution_count": 11,
      "outputs": [
        {
          "output_type": "execute_result",
          "data": {
            "text/plain": [
              "array([[4.21509616],\n",
              "       [2.77011339]])"
            ]
          },
          "metadata": {},
          "execution_count": 11
        }
      ]
    },
    {
      "cell_type": "markdown",
      "source": [
        "7. 확률적 경사 하강법\n",
        "\n",
        "  매 스텝에서 전체 훈련 세트가 아닌 한 개의 샘플을 랜덤으로 선택하여 그 샘플에 대한 그레이디언트를 계산하는 방법이다.\n",
        "\n",
        "  전역 최솟값에 다다르지 못한다는 한계를 극복하기 위해 어닐링을 진행한다. ( 학습 스케줄 이용 )"
      ],
      "metadata": {
        "id": "9P7smwwecg7j"
      }
    },
    {
      "cell_type": "code",
      "source": [
        "n_epochs = 50 # 학습데이터셋을 50번 반복 학습\n",
        "t0, t1 = 5, 50  # 학습 스케줄 하이퍼파라미터\n",
        "\n",
        "# 에포크와 반복 횟수에 따라 감소하는 방향으로 학습률을 계산하는 함수\n",
        "def learning_schedule(t):\n",
        "    return t0 / (t + t1)\n",
        "\n",
        "np.random.seed(42)\n",
        "theta = np.random.randn(2, 1)  # 랜덤 초기화\n",
        "\n",
        "\n",
        "for epoch in range(n_epochs): # 50번 반복\n",
        "    for iteration in range(m): # 샘플 수 만큼 100번 반복\n",
        "      random_index = np.random.randint(m) # 0부터 m 사이의 무작위 정수 반환\n",
        "      xi = X_b[random_index : random_index + 1] # random_index+1번째 샘플 x\n",
        "      yi = y[random_index : random_index + 1] # random_index+1번째 샘플 y\n",
        "      gradients = 2 * xi.T @ (xi @ theta - yi)  # 해당 한 샘플에 대해 gradients 계산\n",
        "      eta = learning_schedule(epoch * m + iteration) # 학습율 계산\n",
        "      theta = theta - eta * gradients # 계산한 학습율 만큼만 gradient를 반영하여 theta 업데이트"
      ],
      "metadata": {
        "id": "_ShHwKy4KlAf"
      },
      "execution_count": 12,
      "outputs": []
    },
    {
      "cell_type": "code",
      "source": [
        "theta # 파라메터가 잘 학습된 것을 확인"
      ],
      "metadata": {
        "colab": {
          "base_uri": "https://localhost:8080/",
          "height": 0
        },
        "id": "FgSxHb2CLGjY",
        "outputId": "960ba86c-fae2-4a62-b150-f623e8698813"
      },
      "execution_count": 13,
      "outputs": [
        {
          "output_type": "execute_result",
          "data": {
            "text/plain": [
              "array([[4.21076011],\n",
              "       [2.74856079]])"
            ]
          },
          "metadata": {},
          "execution_count": 13
        }
      ]
    },
    {
      "cell_type": "markdown",
      "source": [
        "8. SGDRegressor() 으로 확률적 경사 하강법 사용하기"
      ],
      "metadata": {
        "id": "anXcoHwcf8ii"
      }
    },
    {
      "cell_type": "code",
      "source": [
        "from sklearn.linear_model import SGDRegressor\n",
        "\n",
        "# SGD 모델 선언\n",
        "# 최대 반복횟수 1000\n",
        "# loss 변화량이 1e-5 값보다 작아지면 수렴되었다고 판단하고 종료\n",
        "# 정규화(L1, L2)를 사용하지 않음\n",
        "# 학습률은 0.01\n",
        "# loss가 수렴되지않았어도 100회 학습하는 동안 개선되지않으면 조기 종료\n",
        "# 시드값 고정\n",
        "sgd_reg = SGDRegressor(max_iter=1000, tol=1e-5, penalty=None, eta0=0.01,\n",
        "                       n_iter_no_change=100, random_state=42)\n",
        "\n",
        "# 학습\n",
        "sgd_reg.fit(X, y.ravel())  # fit()이 1D 타깃을 기대 -> y.ravel(), 다차원 배열을 1차원 배열로 전환 후 전달"
      ],
      "metadata": {
        "colab": {
          "base_uri": "https://localhost:8080/",
          "height": 75
        },
        "id": "6pVDfVGWK6cC",
        "outputId": "1beac967-cd02-4b5d-e2f6-9a023e421969"
      },
      "execution_count": 14,
      "outputs": [
        {
          "output_type": "execute_result",
          "data": {
            "text/plain": [
              "SGDRegressor(n_iter_no_change=100, penalty=None, random_state=42, tol=1e-05)"
            ],
            "text/html": [
              "<style>#sk-container-id-1 {color: black;background-color: white;}#sk-container-id-1 pre{padding: 0;}#sk-container-id-1 div.sk-toggleable {background-color: white;}#sk-container-id-1 label.sk-toggleable__label {cursor: pointer;display: block;width: 100%;margin-bottom: 0;padding: 0.3em;box-sizing: border-box;text-align: center;}#sk-container-id-1 label.sk-toggleable__label-arrow:before {content: \"▸\";float: left;margin-right: 0.25em;color: #696969;}#sk-container-id-1 label.sk-toggleable__label-arrow:hover:before {color: black;}#sk-container-id-1 div.sk-estimator:hover label.sk-toggleable__label-arrow:before {color: black;}#sk-container-id-1 div.sk-toggleable__content {max-height: 0;max-width: 0;overflow: hidden;text-align: left;background-color: #f0f8ff;}#sk-container-id-1 div.sk-toggleable__content pre {margin: 0.2em;color: black;border-radius: 0.25em;background-color: #f0f8ff;}#sk-container-id-1 input.sk-toggleable__control:checked~div.sk-toggleable__content {max-height: 200px;max-width: 100%;overflow: auto;}#sk-container-id-1 input.sk-toggleable__control:checked~label.sk-toggleable__label-arrow:before {content: \"▾\";}#sk-container-id-1 div.sk-estimator input.sk-toggleable__control:checked~label.sk-toggleable__label {background-color: #d4ebff;}#sk-container-id-1 div.sk-label input.sk-toggleable__control:checked~label.sk-toggleable__label {background-color: #d4ebff;}#sk-container-id-1 input.sk-hidden--visually {border: 0;clip: rect(1px 1px 1px 1px);clip: rect(1px, 1px, 1px, 1px);height: 1px;margin: -1px;overflow: hidden;padding: 0;position: absolute;width: 1px;}#sk-container-id-1 div.sk-estimator {font-family: monospace;background-color: #f0f8ff;border: 1px dotted black;border-radius: 0.25em;box-sizing: border-box;margin-bottom: 0.5em;}#sk-container-id-1 div.sk-estimator:hover {background-color: #d4ebff;}#sk-container-id-1 div.sk-parallel-item::after {content: \"\";width: 100%;border-bottom: 1px solid gray;flex-grow: 1;}#sk-container-id-1 div.sk-label:hover label.sk-toggleable__label {background-color: #d4ebff;}#sk-container-id-1 div.sk-serial::before {content: \"\";position: absolute;border-left: 1px solid gray;box-sizing: border-box;top: 0;bottom: 0;left: 50%;z-index: 0;}#sk-container-id-1 div.sk-serial {display: flex;flex-direction: column;align-items: center;background-color: white;padding-right: 0.2em;padding-left: 0.2em;position: relative;}#sk-container-id-1 div.sk-item {position: relative;z-index: 1;}#sk-container-id-1 div.sk-parallel {display: flex;align-items: stretch;justify-content: center;background-color: white;position: relative;}#sk-container-id-1 div.sk-item::before, #sk-container-id-1 div.sk-parallel-item::before {content: \"\";position: absolute;border-left: 1px solid gray;box-sizing: border-box;top: 0;bottom: 0;left: 50%;z-index: -1;}#sk-container-id-1 div.sk-parallel-item {display: flex;flex-direction: column;z-index: 1;position: relative;background-color: white;}#sk-container-id-1 div.sk-parallel-item:first-child::after {align-self: flex-end;width: 50%;}#sk-container-id-1 div.sk-parallel-item:last-child::after {align-self: flex-start;width: 50%;}#sk-container-id-1 div.sk-parallel-item:only-child::after {width: 0;}#sk-container-id-1 div.sk-dashed-wrapped {border: 1px dashed gray;margin: 0 0.4em 0.5em 0.4em;box-sizing: border-box;padding-bottom: 0.4em;background-color: white;}#sk-container-id-1 div.sk-label label {font-family: monospace;font-weight: bold;display: inline-block;line-height: 1.2em;}#sk-container-id-1 div.sk-label-container {text-align: center;}#sk-container-id-1 div.sk-container {/* jupyter's `normalize.less` sets `[hidden] { display: none; }` but bootstrap.min.css set `[hidden] { display: none !important; }` so we also need the `!important` here to be able to override the default hidden behavior on the sphinx rendered scikit-learn.org. See: https://github.com/scikit-learn/scikit-learn/issues/21755 */display: inline-block !important;position: relative;}#sk-container-id-1 div.sk-text-repr-fallback {display: none;}</style><div id=\"sk-container-id-1\" class=\"sk-top-container\"><div class=\"sk-text-repr-fallback\"><pre>SGDRegressor(n_iter_no_change=100, penalty=None, random_state=42, tol=1e-05)</pre><b>In a Jupyter environment, please rerun this cell to show the HTML representation or trust the notebook. <br />On GitHub, the HTML representation is unable to render, please try loading this page with nbviewer.org.</b></div><div class=\"sk-container\" hidden><div class=\"sk-item\"><div class=\"sk-estimator sk-toggleable\"><input class=\"sk-toggleable__control sk-hidden--visually\" id=\"sk-estimator-id-1\" type=\"checkbox\" checked><label for=\"sk-estimator-id-1\" class=\"sk-toggleable__label sk-toggleable__label-arrow\">SGDRegressor</label><div class=\"sk-toggleable__content\"><pre>SGDRegressor(n_iter_no_change=100, penalty=None, random_state=42, tol=1e-05)</pre></div></div></div></div></div>"
            ]
          },
          "metadata": {},
          "execution_count": 14
        }
      ]
    },
    {
      "cell_type": "code",
      "source": [
        "# bias와 파라미터가 근사하게 맞춘 것을 확인 할 수 있다.\n",
        "sgd_reg.intercept_, sgd_reg.coef_"
      ],
      "metadata": {
        "colab": {
          "base_uri": "https://localhost:8080/",
          "height": 0
        },
        "id": "AB4DEpKcLJXA",
        "outputId": "b4bcc133-5cf8-46a9-9722-0e865f74ec9f"
      },
      "execution_count": 15,
      "outputs": [
        {
          "output_type": "execute_result",
          "data": {
            "text/plain": [
              "(array([4.21278812]), array([2.77270267]))"
            ]
          },
          "metadata": {},
          "execution_count": 15
        }
      ]
    },
    {
      "cell_type": "markdown",
      "source": [
        "# 4.3 다항 회귀"
      ],
      "metadata": {
        "id": "VS213Lp5LRRP"
      }
    },
    {
      "cell_type": "code",
      "source": [
        "# 위와 동일하게 잡음을 포함한 비선형 데이터 셋을 만드는 과정\n",
        "np.random.seed(42) # 시드 고정\n",
        "m = 100 # 샘플 수\n",
        "X = 6 * np.random.rand(m, 1) - 3 # 샘플수에 해당하는 난수 생성 * 6\n",
        "y = 0.5 * X ** 2 + X + 2 + np.random.randn(m, 1) # ax^2 + bx + c"
      ],
      "metadata": {
        "id": "ci4RT71eLQgf"
      },
      "execution_count": 16,
      "outputs": []
    },
    {
      "cell_type": "code",
      "source": [
        "from sklearn.preprocessing import PolynomialFeatures\n",
        "\n",
        "# 다항식 차수 degree는 2, 다항식 모델 선언\n",
        "poly_features = PolynomialFeatures(degree=2, include_bias=False)\n",
        "# 현재 학습 데이터 X를 fit_transform 하여 다항식에 맞는 특성 행렬생성\n",
        "X_poly = poly_features.fit_transform(X)\n",
        "# 첫번째 샘플의 특성 벡터\n",
        "X[0]"
      ],
      "metadata": {
        "colab": {
          "base_uri": "https://localhost:8080/",
          "height": 0
        },
        "id": "i_PNOTZULXOA",
        "outputId": "1221a5b2-16f9-4b42-a10e-39c4cf94ab49"
      },
      "execution_count": 17,
      "outputs": [
        {
          "output_type": "execute_result",
          "data": {
            "text/plain": [
              "array([-0.75275929])"
            ]
          },
          "metadata": {},
          "execution_count": 17
        }
      ]
    },
    {
      "cell_type": "code",
      "source": [
        "X_poly[0]"
      ],
      "metadata": {
        "colab": {
          "base_uri": "https://localhost:8080/",
          "height": 0
        },
        "id": "H7Rou9CzLYT5",
        "outputId": "99984a3d-a198-4886-dac8-26579c887402"
      },
      "execution_count": 18,
      "outputs": [
        {
          "output_type": "execute_result",
          "data": {
            "text/plain": [
              "array([-0.75275929,  0.56664654])"
            ]
          },
          "metadata": {},
          "execution_count": 18
        }
      ]
    },
    {
      "cell_type": "code",
      "source": [
        "lin_reg = LinearRegression()# 선형회귀모델 선언\n",
        "lin_reg.fit(X_poly, y) # 다항식 특성 벡터를 x로한 y에 대하여 학습\n",
        "lin_reg.intercept_, lin_reg.coef_ # bias와 두 개(2차식) 파라메터 추정 결과\n",
        "\n",
        "#1.0을 0.93366893, 0.5을 0.56456263으로 정답을 근사하게 예측함"
      ],
      "metadata": {
        "colab": {
          "base_uri": "https://localhost:8080/",
          "height": 0
        },
        "id": "VhSfZ9TWLZ2B",
        "outputId": "b77b9f28-0f1b-406e-8971-4590c78dc1d7"
      },
      "execution_count": 19,
      "outputs": [
        {
          "output_type": "execute_result",
          "data": {
            "text/plain": [
              "(array([1.78134581]), array([[0.93366893, 0.56456263]]))"
            ]
          },
          "metadata": {},
          "execution_count": 19
        }
      ]
    },
    {
      "cell_type": "markdown",
      "source": [
        "# 4.4 학습 곡선"
      ],
      "metadata": {
        "id": "akfxTdx3pI7_"
      }
    },
    {
      "cell_type": "code",
      "source": [
        "from sklearn.model_selection import learning_curve\n",
        "\n",
        "# 교차 검증을 사용하여 모델을 훈련하고 평가하는 함수\n",
        "# X, y 데이터로 학습하는 LinearRegression 모델에 대하여 평가\n",
        "# 5-fold crass validation\n",
        "# 0.01부터 1.0까지 범위내에서 40개의 값을 생성, 훈련 데이터 크기\n",
        "# 평가 지표는 평균 제곱근 오차의 음수 값(값이 클 수록 성능이 좋다는 뜻)\n",
        "train_sizes, train_scores, valid_scores = learning_curve(\n",
        "    LinearRegression(), X, y, train_sizes=np.linspace(0.01, 1.0, 40), cv=5,\n",
        "    scoring=\"neg_root_mean_squared_error\")\n",
        "\n",
        "# learning_curve 함수를 사용하여 얻은 훈련 점수와 검증 점수를 바탕으로 훈련 오차와 검증 오차를 계산\n",
        "# 각 행은 각 훈련 세트 크기에 대응되는 점수이며, 각 행의 평균을 계산\n",
        "train_errors = -train_scores.mean(axis=1)\n",
        "valid_errors = -valid_scores.mean(axis=1)\n",
        "\n",
        "# figure를 생성\n",
        "plt.figure(figsize=(6, 4))\n",
        "# 훈련 오차는 빨간색\n",
        "plt.plot(train_sizes, train_errors, \"r-+\", linewidth=2, label=\"train\")\n",
        "# 검증 오차를 파란색으로 표시\n",
        "plt.plot(train_sizes, valid_errors, \"b-\", linewidth=3, label=\"valid\")\n",
        "\n",
        "plt.xlabel(\"Training set size\") # x축 라벨\n",
        "plt.ylabel(\"RMSE\") # y축 라벨\n",
        "plt.grid() # 격자를 표시\n",
        "plt.legend(loc=\"upper right\") # 범례를 우측 상단에\n",
        "plt.axis([0, 80, 0, 2.5]) # x축과 y축의 범위를 설정\n",
        "\n",
        "plt.show() # 그리기"
      ],
      "metadata": {
        "colab": {
          "base_uri": "https://localhost:8080/",
          "height": 393
        },
        "id": "ROf1QHq6LkPt",
        "outputId": "8c21f150-e12e-4e03-d8fc-84ec9a224b2b"
      },
      "execution_count": 20,
      "outputs": [
        {
          "output_type": "display_data",
          "data": {
            "text/plain": [
              "<Figure size 600x400 with 1 Axes>"
            ],
            "image/png": "[encoded data removed]"
          },
          "metadata": {}
        }
      ]
    },
    {
      "cell_type": "code",
      "source": [
        "from sklearn.model_selection import learning_curve\n",
        "from sklearn.pipeline import make_pipeline\n",
        "\n",
        "# polynomial_regression 모델 선언\n",
        "# 10차 다항식 특성을 생성하고, 해당 데이터에 대해 LinearRegression 수행\n",
        "polynomial_regression = make_pipeline(\n",
        "    PolynomialFeatures(degree=10, include_bias=False),\n",
        "    LinearRegression())\n",
        "\n",
        "# 교차 검증을 사용하여 모델을 훈련하고 평가하는 함수\n",
        "train_sizes, train_scores, valid_scores = learning_curve(\n",
        "    polynomial_regression, X, y, train_sizes=np.linspace(0.01, 1.0, 40), cv=5,\n",
        "    scoring=\"neg_root_mean_squared_error\")\n",
        "\n",
        "# learning_curve 함수를 사용하여 얻은 훈련 점수와 검증 점수를 바탕으로 훈련 오차와 검증 오차를 계산\n",
        "train_errors = -train_scores.mean(axis=1)\n",
        "valid_errors = -valid_scores.mean(axis=1)\n",
        "\n",
        "# figure를 생성\n",
        "plt.figure(figsize=(6, 4))\n",
        "# 훈련 오차는 빨간색\n",
        "plt.plot(train_sizes, train_errors, \"r-+\", linewidth=2, label=\"train\")\n",
        "# 검증 오차를 파란색으로 표시\n",
        "plt.plot(train_sizes, valid_errors, \"b-\", linewidth=3, label=\"valid\")\n",
        "\n",
        "plt.xlabel(\"Training set size\") # x축 라벨\n",
        "plt.ylabel(\"RMSE\") # y축 라벨\n",
        "plt.grid() # 격자를 표시\n",
        "plt.legend(loc=\"upper right\") # 범례를 우측 상단에\n",
        "plt.axis([0, 80, 0, 2.5]) # x축과 y축의 범위를 설정\n",
        "\n",
        "plt.show() # 그리기"
      ],
      "metadata": {
        "id": "RgQbpUcMLq_8",
        "colab": {
          "base_uri": "https://localhost:8080/",
          "height": 393
        },
        "outputId": "21301320-81d8-4545-ce2a-bed3f8436c06"
      },
      "execution_count": 21,
      "outputs": [
        {
          "output_type": "display_data",
          "data": {
            "text/plain": [
              "<Figure size 600x400 with 1 Axes>"
            ],
            "image/png": "[encoded data removed]"
          },
          "metadata": {}
        }
      ]
    },
    {
      "cell_type": "markdown",
      "source": [
        "# 4.5 규제가 있는 선형 모델\n",
        "  \n",
        "  릿지 회귀\n"
      ],
      "metadata": {
        "id": "MvQRzQp8rY90"
      }
    },
    {
      "cell_type": "code",
      "source": [
        "from sklearn.linear_model import Ridge\n",
        "\n",
        "# Ridge 회귀 모델을 생성\n",
        "# 정규화를 조절 값 alpha, 숄레스키 분해를 사용해 최적화\n",
        "ridge_reg = Ridge(alpha=0.1, solver=\"cholesky\")\n",
        "ridge_reg.fit(X, y) # 학습, 최적의 선형 함수를 찾는 과정\n",
        "ridge_reg.predict([[1.5]]) # 특정 값 [1.5]에 대한 예측"
      ],
      "metadata": {
        "colab": {
          "base_uri": "https://localhost:8080/",
          "height": 0
        },
        "id": "WcB-IJMAL8Vu",
        "outputId": "c251cfe8-d5cd-47ac-ae21-004ad882889a"
      },
      "execution_count": 22,
      "outputs": [
        {
          "output_type": "execute_result",
          "data": {
            "text/plain": [
              "array([[4.82899748]])"
            ]
          },
          "metadata": {},
          "execution_count": 22
        }
      ]
    },
    {
      "cell_type": "code",
      "source": [
        "# SGD 회귀 모델을 생성\n",
        "# 0.1 / m 강도의 L2 정규화 사용\n",
        "sgd_reg = SGDRegressor(penalty=\"l2\", alpha=0.1 / m, tol=None,\n",
        "                       max_iter=1000, eta0=0.01, random_state=42)\n",
        "sgd_reg.fit(X, y.ravel())  # 2차원을 1차원 배열로 반환\n",
        "sgd_reg.predict([[1.5]]) # 특정 값 [1.5]에 대한 예측"
      ],
      "metadata": {
        "colab": {
          "base_uri": "https://localhost:8080/",
          "height": 0
        },
        "id": "zA-0ohhRL-4H",
        "outputId": "50b87c49-64e9-476a-e554-f95f6c5bc81c"
      },
      "execution_count": 23,
      "outputs": [
        {
          "output_type": "execute_result",
          "data": {
            "text/plain": [
              "array([4.82830117])"
            ]
          },
          "metadata": {},
          "execution_count": 23
        }
      ]
    }
  ]
}